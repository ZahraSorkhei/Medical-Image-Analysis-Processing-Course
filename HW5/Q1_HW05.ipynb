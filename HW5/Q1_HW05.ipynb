{
  "nbformat": 4,
  "nbformat_minor": 0,
  "metadata": {
    "colab": {
      "provenance": []
    },
    "kernelspec": {
      "name": "python3",
      "display_name": "Python 3"
    },
    "language_info": {
      "name": "python"
    }
  },
  "cells": [
    {
      "cell_type": "code",
      "source": [
        "import os\n",
        "\n",
        "directory = \"outputs\"\n",
        "\n",
        "# Check if the directory exists\n",
        "if not os.path.exists(directory):\n",
        "    # If it doesn't exist, create it\n",
        "    os.makedirs(directory)"
      ],
      "metadata": {
        "id": "mQxztznMuk8e"
      },
      "execution_count": 2,
      "outputs": []
    },
    {
      "cell_type": "code",
      "execution_count": 3,
      "metadata": {
        "colab": {
          "base_uri": "https://localhost:8080/"
        },
        "id": "IclVVIISufsu",
        "outputId": "60ae451e-9f25-4013-f1b0-4fd244a15c1e"
      },
      "outputs": [
        {
          "output_type": "execute_result",
          "data": {
            "text/plain": [
              "True"
            ]
          },
          "metadata": {},
          "execution_count": 3
        }
      ],
      "source": [
        "import cv2 as cv\n",
        "import numpy as np\n",
        "\n",
        "def get_transform_matrix(x1,y1,x2,y2,x3,y3,x4,y4):#clockwise\n",
        "    src_points=np.float32([[x1,y1], [x2,y2], [x3,y3], [x4,y4]])\n",
        "    width=int(np.sqrt((x1-x2)**2 +(y1-y2)**2))\n",
        "    heigth=int(np.sqrt((x2-x3)**2 +(y2-y3)**2))\n",
        "    destination_points=np.float32([[0,0],[width-1,0],[width-1,heigth-1],[0,heigth-1]])\n",
        "    projective_matrix = cv.getPerspectiveTransform(src_points, destination_points)\n",
        "    return projective_matrix,width,heigth\n",
        "def my_backward_warping(source,projective_matrix,shape):\n",
        "    width=shape[1]\n",
        "    heigth=shape[0]\n",
        "    projected=np.zeros((heigth,width,3),dtype=np.uint8)\n",
        "    inv_T=np.linalg.inv(projective_matrix)\n",
        "    v=np.ones((3,1))\n",
        "    for i in range(0,width):\n",
        "        for j in range(0,heigth):\n",
        "            #now x and y in opencv x=i,y=j\n",
        "            v[0,0]=i\n",
        "            v[1,0]=j\n",
        "            loc=inv_T @ v\n",
        "            x_prime=loc[0,0]/loc[2,0]\n",
        "            y_prime=loc[1,0]/loc[2,0]#in opencv coordinates\n",
        "            # print(loc)\n",
        "            if 0 <= x_prime < source.shape[1] and 0 < y_prime < source.shape[0]:#bilinear interpolation\n",
        "                x=np.floor(y_prime).astype(np.int64)\n",
        "                a=np.abs(y_prime-x)\n",
        "                y=np.floor(x_prime).astype(np.int64)\n",
        "                b=np.abs(x_prime-y)\n",
        "                projected[j,i,:]= (1-a)*(1-b)*source[x,y,:]+a*(1-b)*source[x+1,y,:]+(1-a)*b*source[x,y+1,:]+a*b*source[x+1,y+1,:]\n",
        "            else:\n",
        "                print('out of band')\n",
        "\n",
        "    return projected\n",
        "\n",
        "\n",
        "books = cv.imread(\"books.jpg\")\n",
        "projective_matrix,width,heigth=get_transform_matrix(666,208,600,395,321,289,382,108)\n",
        "combinatory_book_manual=my_backward_warping(books,projective_matrix,(heigth,width))\n",
        "cv.imwrite('outputs/res01.jpg',combinatory_book_manual)\n",
        "projective_matrix1,width1,heigth1=get_transform_matrix(359,741,157,708,208,428,409,466)\n",
        "fourier=my_backward_warping(books,projective_matrix1,(heigth1,width1))\n",
        "cv.imwrite('outputs/res02.jpg',fourier)\n",
        "projective_matrix2,width2,heigth2=get_transform_matrix(813,969,609,1098,425,796,620,668)\n",
        "image_science=my_backward_warping(books,projective_matrix2,(heigth2,width2))\n",
        "cv.imwrite('outputs/res03.jpg',image_science)\n",
        "\n"
      ]
    },
    {
      "cell_type": "markdown",
      "source": [
        "**Projective Matrixe**"
      ],
      "metadata": {
        "id": "csYLD7YFEtom"
      }
    },
    {
      "cell_type": "code",
      "source": [
        "print(\"projective matrix 1 is: \")\n",
        "print(projective_matrix)\n",
        "print(\"projective matrix 2 is: \")\n",
        "print(projective_matrix1)\n",
        "print(\"projective matrix 3 is: \")\n",
        "print(projective_matrix2)"
      ],
      "metadata": {
        "colab": {
          "base_uri": "https://localhost:8080/"
        },
        "id": "EiJuJMOfEUYl",
        "outputId": "b8aecf7a-dcae-45d2-a4e3-3023f91d870c"
      },
      "execution_count": 5,
      "outputs": [
        {
          "output_type": "stream",
          "name": "stdout",
          "text": [
            "projective matrix 1 is: \n",
            "[[-3.58165281e-01  1.01718940e+00  2.69626823e+01]\n",
            " [-9.81339184e-01 -3.46355006e-01  7.25613738e+02]\n",
            " [ 1.45042580e-04 -3.73587546e-06  1.00000000e+00]]\n",
            "projective matrix 2 is: \n",
            "[[-9.53465090e-01 -1.73357289e-01  4.70751718e+02]\n",
            " [ 1.56580933e-01 -9.58465105e-01  6.54010088e+02]\n",
            " [-8.43840412e-05 -1.38449918e-05  1.00000000e+00]]\n",
            "projective matrix 3 is: \n",
            "[[-9.47711260e-01  6.07668681e-01  1.81658302e+02]\n",
            " [-5.82128050e-01 -9.20574590e-01  1.36530688e+03]\n",
            " [ 1.04051909e-04  6.26674628e-05  1.00000000e+00]]\n"
          ]
        }
      ]
    }
  ]
}