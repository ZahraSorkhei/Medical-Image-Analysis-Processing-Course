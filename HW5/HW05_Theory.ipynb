{
  "nbformat": 4,
  "nbformat_minor": 0,
  "metadata": {
    "colab": {
      "provenance": []
    },
    "kernelspec": {
      "name": "python3",
      "display_name": "Python 3"
    },
    "language_info": {
      "name": "python"
    }
  },
  "cells": [
    {
      "cell_type": "markdown",
      "source": [
        "### Question 1"
      ],
      "metadata": {
        "id": "j4K7QIhkAXQ4"
      }
    },
    {
      "cell_type": "markdown",
      "source": [
        "Intensity inhomogeneity (IIH) in images is a phenomenon that occurs when the intensity between adjacent pixels is different. It can be caused by various factors, such as occlusion, uneven heat dissipation, lighting conditions, or imaging devices. IIH can affect the quality and accuracy of image segmentation, which is a process of dividing an image into meaningful regions or objects.\n",
        "\n",
        "One of the methods to deal with IIH is the active contour model (ACM), which is a technique that uses a curve or surface to evolve towards the object boundaries by minimizing an energy functional. The energy functional usually consists of three terms: a region fitting term, a smoothness term, and an external force term.\n",
        "\n",
        "There are several possible causes of intensity inhomogeneity in MRI, such as:\n",
        "\n",
        "\n",
        "*   Imperfections of the image acquisition process, such as nonuniform radiofrequency coils, gradient field nonlinearity, eddy currents, etc.\n",
        "*   Irregular anatomical areas, such as shoulder, hips, ankles, etc. that cause magnetic susceptibility artifacts.\n",
        "*   Presence of metallic objects or implants that distort the magnetic field.\n",
        "*   Patient motion or breathing that introduce motion artifacts.\n",
        "\n",
        "However, the traditional ACMs may not work well for images with IIH, because they assume that the intensity within each region is homogeneous or can be corrected by a bias field. Therefore, some modified ACMs have been proposed to handle IIH more effectively. One of them is the adaptive fuzzy c-means clustering (AFCM) method, which is based on the fuzzy c-means (FCM) algorithm.\n",
        "\n",
        "The FCM algorithm is a clustering method that assigns each pixel to one or more clusters based on its similarity to the cluster centers. The similarity is measured by a membership function, which indicates the degree of belongingness of each pixel to each cluster. The FCM algorithm iteratively updates the cluster centers and the membership functions until they converge.\n",
        "\n",
        "The AFCM method extends the FCM algorithm by introducing an adaptive penalty term and a spatial constraint term into the objective function. The adaptive penalty term penalizes the pixels that have large intensity differences from their cluster centers, while the spatial constraint term incorporates the spatial information of neighboring pixels into the membership function. These two terms help to reduce the effect of IIH and noise on the segmentation results.\n",
        "\n",
        "The AFCM method can be combined with an ACM to form a hybrid model for image segmentation. The AFCM method provides an initial segmentation and an intensity inhomogeneity correction for the ACM, while the ACM refines the segmentation and enforces the boundary smoothness. The hybrid model can achieve better segmentation performance than either method alone."
      ],
      "metadata": {
        "id": "WmtPYcrbAczL"
      }
    },
    {
      "cell_type": "markdown",
      "source": [
        "### Question 2"
      ],
      "metadata": {
        "id": "WdMkYK9GATvF"
      }
    },
    {
      "cell_type": "markdown",
      "source": [
        "#### Part 1"
      ],
      "metadata": {
        "id": "ygIxmCzwRdnD"
      }
    },
    {
      "cell_type": "markdown",
      "source": [
        "**What is the basic idea of Level set?**\n",
        "\n",
        "The basic idea of the level set method is to represent a contour as the zero level set of a higher dimensional function, called a level set function (LSF), and formulate the motion of the contour as the evolution of the level set function."
      ],
      "metadata": {
        "id": "lldoYpUMRimf"
      }
    },
    {
      "cell_type": "markdown",
      "source": [
        "**What is the advantage of Level set?**\n",
        "\n",
        "\n",
        "\n",
        "1.    One of the desirable advantage of level set methods is that they can represent contours of complex topology and are able to handle topological changes, such as splitting and merging, in a natural and efficient way, which is not allowed in parametric active contour models unless extra indirect procedures are introduced in the implementations.\n",
        "2.   Another desirable feature of level set methods is that numerical computations can be performed on a fixed Cartesian grid without having to parameterize the points on a contour as in parametric active contour models.\n",
        "\n",
        "\n"
      ],
      "metadata": {
        "id": "KVvyT5YzR8Se"
      }
    },
    {
      "cell_type": "markdown",
      "source": [
        "**Curve Evolution**\n",
        "\n",
        "The curve evolution can be expressed as:\n",
        "\n",
        "$$\\frac{\\partial C( s,t)}{\\partial t} = F\\mathcal{N}$$\n",
        "\n",
        "where $F$ is the speed function that controls the motion of the contour, and $\\mathcal{N}$ is the inward normal vector to the curve $C$ ."
      ],
      "metadata": {
        "id": "PQINAIo7SBQx"
      }
    },
    {
      "cell_type": "markdown",
      "source": [
        "**Convert to PDE equation**\n",
        "The above curve evolution in terms of a parameterized contour can be converted to a level set formulation by embedding the dynamic contour as the zero level set of a time dependent LSF . Assuming that the embedding LSF takes negative values inside the zero level contour and positive values outside, the inward normal vector can be expressed as $\\mathcal{N}  = \\frac{-\\triangledown \\phi }{|\\triangledown \\phi |}$ where $\\phi$ is the gradient operator. Then, the curve evolution equation is converted to the following partial differential equation (PDE):\n",
        "$$\\frac{\\partial \\phi }{\\partial t} =F|\\triangledown \\phi |$$"
      ],
      "metadata": {
        "id": "5vDUT5nVT6El"
      }
    },
    {
      "cell_type": "markdown",
      "source": [
        "#### Part 2"
      ],
      "metadata": {
        "id": "v6xzpoXi665y"
      }
    },
    {
      "cell_type": "markdown",
      "source": [
        "**What is the energy function in DRLSE?**\n",
        "$$ \\varepsilon ( \\theta ) =\\mu R_{p}( \\phi ) +\\varepsilon _{ext}( \\phi ) $$\n",
        "\n",
        "**what is the regularization term set level defined in the energy function?**\n",
        "\n",
        "$  R_{p}( \\phi ) $ is the level set regularization term defined in th following, $ \\mu>0 $ is a constant, and $ \\varepsilon _{ext}( \\phi ) $ is the external energy that depends upon the data of interest (e.g., an image for\n",
        "image segmentation applications). The level set regularization\n",
        "term ($  R_{p}( \\phi ) $) is defined by:\n",
        "$$ R_{p}( \\phi ) =\\int _{\\Omega } p|\\nabla _{\\phi } |dx\\  $$\n",
        "The energy $ \\varepsilon _{ext}( \\phi ) $  is designed such that it achieves a minimum when the zero level set of the LSF $ \\phi $ is located at desired position (e.g., an object boundary for image segmentation applications).\n",
        "\n",
        "**What is the proposal of this paper for the potential function?\n",
        "What is the advantage of this proposed P2 potential function compared to P1?**\n",
        "\n",
        "A naive choice of the potential function is $ p(s)=s^2 $ for the\n",
        "regularization term $ R_p $, which forces $ |\\nabla _{\\phi } | $ to be zero. Such a level set regularization term has a strong smoothing effect, but it tends to flatten the LSF and finally make the zero level contour disappear. In fact, the purpose of imposing the level set regularization term is not only to smooth the LSF $ \\phi $, but also to maintain the signed distance property $|\\nabla _{\\phi } |=1 $, at least in a vicinity of the zero level set, in order to ensure accurate computation for curve evolution. This goal can be achieved by using a potential function $ p(s) $ with a minimum point $ s=1 $,such that the level set regularization term $ R_p(\\phi)$is minimized when$|\\nabla {\\phi } |=1 $.Therefore, the potential function should have a minimum point at $ s=1 $ (it may have other minimum points). We will use such a potential $ p $ in the proposed variational level set formulation. The corresponding level set regularization term $ R_p(\\phi) $ is referred to as a distance regularization term for\n",
        "its role of maintaining the signed distance property of the LSF.\n",
        "A simple and straightforward definition of the potential for\n",
        "distance regularization is\n",
        "$$ p=p_1(s)=\\frac{1}{2}(s-1)^2$$\n",
        "which has $ s=1 $ as the unique minimum point. With this potential $ p=p_1(s)$, the level set regularization term can be\n",
        "explicitly expressed as:\n",
        "$$P(\\phi)=\\frac{1}{2} \\int _{\\Omega } (|\\nabla _{\\phi }|-1)^2 dx$$\n",
        "\n",
        "\n",
        "The energy functional $ P(\\phi) $ was proposed as a penalty term in an attempt to maintain the signed distance property in the entire domain. However, the derived level set evolution for energy minimization has an undesirable side effect on the LSF $ \\phi $ in some circumstances, which will be described in Section II-D. To avoid this side effect, we introduce a new potential function $ p $ in the distance regularization term$ R_p $. This new potential function is aimed to maintain the signed distance property $  |\\nabla _{\\phi } |=1 $ only in a vicinity of the zero level set, while keeping the LSF as a constant, with $  |\\nabla _{\\phi } |=0 $, at locations far away from the zero level set. To maintain such a profile of the LSF, the potential function $ p(s) $ must have minimum points $ s=0 $ at and $ s=1 $. Such a potential is a double-well potential as it has two minimum points (wells). Using this double-well potential $ p=p_2 $ not only avoids the side effect\n",
        "that occurs in the case of $ p=p_1 $, but also offers some appealing\n",
        "theoretical and numerical properties of the level set evolution.\n"
      ],
      "metadata": {
        "id": "8OF7JTvE68z7"
      }
    },
    {
      "cell_type": "markdown",
      "source": [
        "#### Part 3"
      ],
      "metadata": {
        "id": "RIIUaWM4-owM"
      }
    },
    {
      "cell_type": "markdown",
      "source": [
        "**Explain about initialization step and advantage of that.**\n",
        "\n",
        "The initialization in this paper is the process of defining an initial level set function that represents the initial contour or region of interest for image segmentation. The paper proposes a new variational level set formulation that does not require the initial level set function to be a signed distance function, as long as it is close to a signed distance function near the zero level set. This means that the initial level set function can have any shape or topology, and it can be defined on a coarse grid and then interpolated to a finer grid. The paper also suggests some methods for generating the initial level set function, such as using a binary mask, a smoothed mask, or a Gaussian kernel. The initialization process is important because it affects the speed and accuracy of the level set evolution. A good initialization can reduce the number of iterations and avoid local minimal.\n",
        "\n",
        "The advantage of the method of initialization in this paper is that it allows the use of more general and efficient initialization of the level set function, without requiring a signed distance function as the initial level set function. The paper states that the initial level set function can be any function that is close to a signed distance function near the zero level set, and it can be defined on a relatively coarse grid and then interpolated to a finer grid. This means that the initialization process is more flexible and less computationally expensive than conventional level set methods that require reinitialization. The paper also provides some examples of different initialization methods, such as using a binary mask, a smoothed mask, or a Gaussian kernel.\n",
        "\n",
        "\n"
      ],
      "metadata": {
        "id": "UjgvqGdt-rk0"
      }
    }
  ]
}